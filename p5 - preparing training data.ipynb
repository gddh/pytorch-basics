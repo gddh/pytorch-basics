{
 "cells": [
  {
   "cell_type": "code",
   "execution_count": 2,
   "id": "cd02fbca",
   "metadata": {},
   "outputs": [
    {
     "name": "stdout",
     "output_type": "stream",
     "text": [
      "PetImages/Cat\n"
     ]
    },
    {
     "name": "stderr",
     "output_type": "stream",
     "text": [
      " 19%|███████                              | 2405/12501 [00:03<00:12, 787.39it/s]Corrupt JPEG data: 214 extraneous bytes before marker 0xd9\n",
      " 69%|█████████████████████████▋           | 8673/12501 [00:10<00:04, 820.39it/s]Corrupt JPEG data: 1153 extraneous bytes before marker 0xd9\n",
      " 75%|███████████████████████████▌         | 9331/12501 [00:11<00:03, 809.92it/s]Corrupt JPEG data: 99 extraneous bytes before marker 0xd9\n",
      " 86%|██████████████████████████████▉     | 10743/12501 [00:13<00:02, 801.75it/s]Corrupt JPEG data: 128 extraneous bytes before marker 0xd9\n",
      " 90%|████████████████████████████████▎   | 11219/12501 [00:14<00:01, 698.82it/s]Corrupt JPEG data: 239 extraneous bytes before marker 0xd9\n",
      "100%|████████████████████████████████████| 12501/12501 [00:15<00:00, 793.55it/s]\n"
     ]
    },
    {
     "name": "stdout",
     "output_type": "stream",
     "text": [
      "PetImages/Dog\n"
     ]
    },
    {
     "name": "stderr",
     "output_type": "stream",
     "text": [
      "  9%|███▍                                 | 1161/12501 [00:01<00:15, 736.71it/s]Corrupt JPEG data: 65 extraneous bytes before marker 0xd9\n",
      " 40%|██████████████▋                      | 4945/12501 [00:06<00:10, 734.83it/s]Corrupt JPEG data: 226 extraneous bytes before marker 0xd9\n",
      " 55%|████████████████████▍                | 6926/12501 [00:09<00:07, 757.77it/s]Corrupt JPEG data: 162 extraneous bytes before marker 0xd9\n",
      " 60%|██████████████████████               | 7460/12501 [00:09<00:06, 753.83it/s]Warning: unknown JFIF revision number 0.00\n",
      " 74%|███████████████████████████▍         | 9290/12501 [00:12<00:04, 784.16it/s]Corrupt JPEG data: 2230 extraneous bytes before marker 0xd9\n",
      " 84%|██████████████████████████████▏     | 10491/12501 [00:13<00:02, 729.89it/s]Corrupt JPEG data: 254 extraneous bytes before marker 0xd9\n",
      " 92%|████████████████████████████████▉   | 11441/12501 [00:15<00:01, 768.59it/s]Corrupt JPEG data: 399 extraneous bytes before marker 0xd9\n",
      " 97%|██████████████████████████████████▊ | 12073/12501 [00:15<00:00, 758.11it/s]Corrupt JPEG data: 1403 extraneous bytes before marker 0xd9\n",
      "100%|████████████████████████████████████| 12501/12501 [00:16<00:00, 755.57it/s]\n",
      "/Users/derricklin/programming/pytorch/venv/lib/python3.9/site-packages/numpy/lib/npyio.py:501: VisibleDeprecationWarning: Creating an ndarray from ragged nested sequences (which is a list-or-tuple of lists-or-tuples-or ndarrays with different lengths or shapes) is deprecated. If you meant to do this, you must specify 'dtype=object' when creating the ndarray.\n",
      "  arr = np.asanyarray(arr)\n"
     ]
    },
    {
     "name": "stdout",
     "output_type": "stream",
     "text": [
      "Cats: 12476\n",
      "Dogs: 12470\n"
     ]
    }
   ],
   "source": [
    "import os\n",
    "import cv2\n",
    "import numpy as np\n",
    "from tqdm import tqdm\n",
    "\n",
    "REBUILD_DATA = False\n",
    "\n",
    "class DogsVSCats():\n",
    "    IMG_SIZE = 50\n",
    "    CATS = \"PetImages/Cat\"\n",
    "    DOGS = \"PetImages/Dog\"\n",
    "    LABELS = {CATS: 0, DOGS: 1}\n",
    "    training_data = []\n",
    "    catcount = 0\n",
    "    dogcount = 0\n",
    "    \n",
    "    def make_training_data(self):\n",
    "        for label in self.LABELS:\n",
    "            print(label)\n",
    "            for f in tqdm(os.listdir(label)):\n",
    "                try:\n",
    "                    path = os.path.join(label, f)\n",
    "                    img = cv2.imread(path, cv2.IMREAD_GRAYSCALE)\n",
    "                    img = cv2.resize(img, (self.IMG_SIZE, self.IMG_SIZE))\n",
    "                    self.training_data.append([np.array(img), np.eye(2)[self.LABELS[label]]])\n",
    "\n",
    "                    if label == self.CATS:\n",
    "                        self.catcount += 1\n",
    "                    elif label == self.DOGS:\n",
    "                        self.dogcount += 1\n",
    "                except Exception as e:\n",
    "                    pass\n",
    "\n",
    "        np.random.shuffle(self.training_data)\n",
    "        np.save(\"training_data.npy\", self.training_data)\n",
    "        print(\"Cats:\", self.catcount)\n",
    "        print(\"Dogs:\", self.dogcount)\n",
    "        \n",
    "if REBUILD_DATA:\n",
    "    dogsvcats = DogsVSCats()\n",
    "    dogsvcats.make_training_data()"
   ]
  },
  {
   "cell_type": "code",
   "execution_count": 4,
   "id": "60d821da",
   "metadata": {},
   "outputs": [],
   "source": [
    "training_data = np.load(\"training_data.npy\", allow_pickle=True)"
   ]
  },
  {
   "cell_type": "code",
   "execution_count": 5,
   "id": "b62f05ac",
   "metadata": {},
   "outputs": [
    {
     "name": "stdout",
     "output_type": "stream",
     "text": [
      "24946\n"
     ]
    }
   ],
   "source": [
    "print(len(training_data))"
   ]
  },
  {
   "cell_type": "code",
   "execution_count": 7,
   "id": "b5a657f4",
   "metadata": {},
   "outputs": [
    {
     "name": "stdout",
     "output_type": "stream",
     "text": [
      "[array([[ 40,  50,  53, ..., 131, 127,  60],\n",
      "        [ 40,  49,  48, ..., 131, 121,  57],\n",
      "        [ 42,  46,  47, ..., 132, 122,  57],\n",
      "        ...,\n",
      "        [157, 157, 159, ..., 207, 216, 221],\n",
      "        [160, 164, 163, ..., 218, 213, 219],\n",
      "        [170, 175, 175, ..., 221, 219, 218]], dtype=uint8) array([0., 1.])]\n"
     ]
    }
   ],
   "source": [
    "print(training_data[1])"
   ]
  },
  {
   "cell_type": "code",
   "execution_count": 10,
   "id": "4a5986b6",
   "metadata": {},
   "outputs": [
    {
     "data": {
      "image/png": "[encoded data removed]",
      "text/plain": [
       "<Figure size 640x480 with 1 Axes>"
      ]
     },
     "metadata": {},
     "output_type": "display_data"
    }
   ],
   "source": [
    "import matplotlib.pyplot as plt\n",
    "\n",
    "plt.imshow(training_data[1][0], cmap=\"gray\")\n",
    "plt.show()"
   ]
  },
  {
   "cell_type": "code",
   "execution_count": null,
   "id": "c7cecc2c",
   "metadata": {},
   "outputs": [],
   "source": []
  }
 ],
 "metadata": {
  "kernelspec": {
   "display_name": "Python 3 (ipykernel)",
   "language": "python",
   "name": "python3"
  },
  "language_info": {
   "codemirror_mode": {
    "name": "ipython",
    "version": 3
   },
   "file_extension": ".py",
   "mimetype": "text/x-python",
   "name": "python",
   "nbconvert_exporter": "python",
   "pygments_lexer": "ipython3",
   "version": "3.9.15"
  }
 },
 "nbformat": 4,
 "nbformat_minor": 5
}
